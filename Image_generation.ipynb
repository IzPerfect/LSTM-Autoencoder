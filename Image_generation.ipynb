{
 "cells": [
  {
   "cell_type": "code",
   "execution_count": 1,
   "metadata": {},
   "outputs": [
    {
     "name": "stdout",
     "output_type": "stream",
     "text": [
      "tensorflow version is :  1.4.0\n"
     ]
    }
   ],
   "source": [
    "import tensorflow as tf\n",
    "import numpy as np \n",
    "import matplotlib.pyplot as plt\n",
    "import os\n",
    "from scipy.misc import imread, imresize\n",
    "from tensorflow.examples.tutorials.mnist import input_data\n",
    "\n",
    "%matplotlib inline\n",
    "print('tensorflow version is : ',tf.__version__)"
   ]
  },
  {
   "cell_type": "markdown",
   "metadata": {},
   "source": [
    "# Download MNIST dataset"
   ]
  },
  {
   "cell_type": "code",
   "execution_count": 2,
   "metadata": {},
   "outputs": [
    {
     "name": "stdout",
     "output_type": "stream",
     "text": [
      "Successfully downloaded train-images-idx3-ubyte.gz 9912422 bytes.\n",
      "Extracting ./data/mnist\\train-images-idx3-ubyte.gz\n",
      "Successfully downloaded train-labels-idx1-ubyte.gz 28881 bytes.\n",
      "Extracting ./data/mnist\\train-labels-idx1-ubyte.gz\n",
      "Successfully downloaded t10k-images-idx3-ubyte.gz 1648877 bytes.\n",
      "Extracting ./data/mnist\\t10k-images-idx3-ubyte.gz\n",
      "Successfully downloaded t10k-labels-idx1-ubyte.gz 4542 bytes.\n",
      "Extracting ./data/mnist\\t10k-labels-idx1-ubyte.gz\n"
     ]
    }
   ],
   "source": [
    "mnist = input_data.read_data_sets('./data/mnist', one_hot=True) # download"
   ]
  },
  {
   "cell_type": "markdown",
   "metadata": {},
   "source": [
    "# Generate rotated or shifted Data"
   ]
  },
  {
   "cell_type": "code",
   "execution_count": 3,
   "metadata": {},
   "outputs": [],
   "source": [
    "from scipy import ndimage\n",
    "def data_generation(images, labels, gener_num):\n",
    "    expanded_images_input = []\n",
    "    expanded_images_output = []\n",
    "    for x,y in zip(images, labels):\n",
    "        \n",
    "        bg_value = np.median(x) # this is regarded as background's value, median color to be background color        \n",
    "        image = np.reshape(x, (-1, 28))\n",
    "        \n",
    "        data_label = np.where(y==1)\n",
    "        data_label = np.array(data_label, np.int32)\n",
    "        \n",
    "        gener_type = np.random.rand(1) # rotate or shift\n",
    "        move_type = np.random.rand(1) # left or right\n",
    "          \n",
    "\n",
    "        if move_type > 0.5:\n",
    "            mv = 1 # conterclockwise, shift right\n",
    "\n",
    "        else:\n",
    "            mv = -1 # clockwise, shift left\n",
    "  \n",
    "        for i in range(30):\n",
    "            \n",
    "            if data_label != np.array([gener_num]):\n",
    "                continue\n",
    "            \n",
    "            \n",
    "            if gener_type > 0.5:\n",
    "                # rotate image\n",
    "          \n",
    "                angle = mv*i*6\n",
    "                new_img = ndimage.rotate(image,angle,reshape=False, cval=bg_value)\n",
    "            else:\n",
    "                # shift image\n",
    "          \n",
    "                shift = mv*i*0.2\n",
    "                new_img = ndimage.shift(image,shift, cval=bg_value)\n",
    "                        \n",
    "            if i <= 14:\n",
    "                expanded_images_input.append(np.reshape(new_img, 784))\n",
    "        \n",
    "            else:\n",
    "                expanded_images_output.append(np.reshape(new_img, 784))\n",
    "    \n",
    "    return expanded_images_input, expanded_images_output"
   ]
  },
  {
   "cell_type": "code",
   "execution_count": 4,
   "metadata": {},
   "outputs": [],
   "source": [
    "gener_num = 7 # select number you want to augment\n",
    "mnist_input, mnist_output = data_generation(mnist.train.images, mnist.train.labels, gener_num)"
   ]
  },
  {
   "cell_type": "code",
   "execution_count": 5,
   "metadata": {},
   "outputs": [
    {
     "name": "stdout",
     "output_type": "stream",
     "text": [
      "shape of mnist_input :  (85725, 784)\n",
      "shape of mnist_output :  (85725, 784)\n"
     ]
    }
   ],
   "source": [
    "mnist_input = np.array(mnist_input)\n",
    "mnist_output = np.array(mnist_output)\n",
    "\n",
    "print('shape of mnist_input : ',mnist_input.shape)\n",
    "print('shape of mnist_output : ',mnist_output.shape)"
   ]
  },
  {
   "cell_type": "code",
   "execution_count": 6,
   "metadata": {},
   "outputs": [],
   "source": [
    "data_num = 1000 # Number of data we will use for train, test\n",
    "\n",
    "# to use autoencoder\n",
    "train_input = mnist_input[:30*data_num].reshape([-1, 15, 784])\n",
    "test_input = mnist_input[30*data_num:2*30*data_num].reshape([-1, 15, 784])\n",
    "\n",
    "# to use prediction data\n",
    "train_output = mnist_output[:30*data_num].reshape([-1, 15, 784])\n",
    "test_output = mnist_output[30*data_num:2*30*data_num].reshape([-1, 15, 784])"
   ]
  },
  {
   "cell_type": "markdown",
   "metadata": {},
   "source": [
    "# Data Save (after make the folder : './data/rotate,shift')"
   ]
  },
  {
   "cell_type": "code",
   "execution_count": 7,
   "metadata": {},
   "outputs": [
    {
     "data": {
      "text/plain": [
       "\"\\nimport scipy.io as spio\\nspio.savemat('./data/rotate,shift/train_input', mdict = {'train_input': train_input})\\nspio.savemat('./data/rotate,shift/test_input', mdict = {'test_input': test_input})\\nspio.savemat('./data/rotate,shift/train_output', mdict = {'train_output': train_output})\\nspio.savemat('./data/rotate,shift/test_output', mdict = {'test_output': test_output})\\n\""
      ]
     },
     "execution_count": 7,
     "metadata": {},
     "output_type": "execute_result"
    }
   ],
   "source": [
    "import scipy.io as spio\n",
    "\n",
    "save_dir = \"./data/rotate,shift\" # path where you want to save\n",
    "\n",
    "if not os.path.exists(save_dir): # if there is no exist, make the path\n",
    "    os.makedirs(save_dir)\n",
    "    \n",
    "spio.savemat('./data/rotate,shift/train_input', mdict = {'train_input': train_input})\n",
    "spio.savemat('./data/rotate,shift/test_input', mdict = {'test_input': test_input})\n",
    "spio.savemat('./data/rotate,shift/train_output', mdict = {'train_output': train_output})\n",
    "spio.savemat('./data/rotate,shift/test_output', mdict = {'test_output': test_output})"
   ]
  },
  {
   "cell_type": "markdown",
   "metadata": {},
   "source": [
    "# Show Generated Data"
   ]
  },
  {
   "cell_type": "code",
   "execution_count": 8,
   "metadata": {},
   "outputs": [
    {
     "data": {
      "image/png": "[encoded data removed]",
      "text/plain": [
       "<matplotlib.figure.Figure at 0xe36d630>"
      ]
     },
     "metadata": {},
     "output_type": "display_data"
    }
   ],
   "source": [
    "fig_num = 10 # select number which you want to see\n",
    "\n",
    "fig1 = plt.figure(figsize=(30,30))\n",
    "for i in range(15):\n",
    "    snap = fig1.add_subplot(1, 15, i+1)\n",
    "    snap.set_xticks([])\n",
    "    snap.set_yticks([])\n",
    "   \n",
    "    plt.imshow(train_input[fig_num,i,:784].reshape([28, 28]), cmap = 'Greys')\n",
    "plt.show()"
   ]
  },
  {
   "cell_type": "code",
   "execution_count": 9,
   "metadata": {},
   "outputs": [
    {
     "data": {
      "image/png": "[encoded data removed]",
      "text/plain": [
       "<matplotlib.figure.Figure at 0xed9d2e8>"
      ]
     },
     "metadata": {},
     "output_type": "display_data"
    }
   ],
   "source": [
    "fig2 = plt.figure(figsize=(30,30))\n",
    "for i in range(15):\n",
    "    snap = fig2.add_subplot(1, 15, i+1)\n",
    "    snap.set_xticks([])\n",
    "    snap.set_yticks([])\n",
    "   \n",
    "    plt.imshow(train_output[fig_num,i,:784].reshape([28, 28]), cmap = 'Greys')\n",
    "plt.show()"
   ]
  }
 ],
 "metadata": {
  "kernelspec": {
   "display_name": "Python 3",
   "language": "python",
   "name": "python3"
  },
  "language_info": {
   "codemirror_mode": {
    "name": "ipython",
    "version": 3
   },
   "file_extension": ".py",
   "mimetype": "text/x-python",
   "name": "python",
   "nbconvert_exporter": "python",
   "pygments_lexer": "ipython3",
   "version": "3.5.4"
  }
 },
 "nbformat": 4,
 "nbformat_minor": 2
}
